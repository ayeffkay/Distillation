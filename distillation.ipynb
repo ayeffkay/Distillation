{
 "cells": [
  {
   "cell_type": "markdown",
   "metadata": {
    "colab_type": "text",
    "id": "A_KA7jWwmWmX"
   },
   "source": [
    "# Loading data"
   ]
  },
  {
   "cell_type": "markdown",
   "metadata": {
    "colab_type": "text",
    "id": "tEm5nGgNA8Ey"
   },
   "source": [
    "I chose the problem of sentiment classification because this topic is close to me (my diploma was related to verbal aggression detection in social networks)."
   ]
  },
  {
   "cell_type": "code",
   "execution_count": null,
   "metadata": {
    "colab": {
     "base_uri": "https://localhost:8080/",
     "height": 1000
    },
    "colab_type": "code",
    "id": "g31RlfURkKqy",
    "outputId": "e991df8b-c0d2-4cf3-f52e-e0aab293d17e"
   },
   "outputs": [],
   "source": [
    "%%bash\n",
    "pip install torch youtokentome transformers catalyst\n",
    "wget -q https://github.com/strawberrypie/rusentiment/raw/master/Dataset/rusentiment_random_posts.csv\n",
    "wget -q https://raw.githubusercontent.com/strawberrypie/rusentiment/master/Dataset/rusentiment_test.csv"
   ]
  },
  {
   "cell_type": "code",
   "execution_count": 4,
   "metadata": {
    "colab": {},
    "colab_type": "code",
    "id": "JuTcBsOQov0x"
   },
   "outputs": [],
   "source": [
    "import pandas as pd\n",
    "import numpy as np\n",
    "import matplotlib.pyplot as plt\n",
    "%matplotlib inline\n",
    "\n",
    "import torch\n",
    "import torch.nn as nn\n",
    "from torch.utils.data import DataLoader\n",
    "\n",
    "import transformers\n",
    "from catalyst.dl.runner.supervised import SupervisedRunner\n",
    "from catalyst.utils import set_global_seed\n",
    "\n",
    "from sklearn.preprocessing import LabelEncoder\n",
    "from sklearn.model_selection import StratifiedShuffleSplit"
   ]
  },
  {
   "cell_type": "code",
   "execution_count": 5,
   "metadata": {
    "colab": {
     "base_uri": "https://localhost:8080/",
     "height": 35
    },
    "colab_type": "code",
    "id": "mVZptcAGpGDO",
    "outputId": "d4edd64a-907a-4eda-fb93-382f9de58373"
   },
   "outputs": [
    {
     "data": {
      "text/plain": [
       "device(type='cuda')"
      ]
     },
     "execution_count": 5,
     "metadata": {
      "tags": []
     },
     "output_type": "execute_result"
    }
   ],
   "source": [
    "DEVICE = torch.device('cuda' if torch.cuda.is_available() else 'cpu')\n",
    "DEVICE"
   ]
  },
  {
   "cell_type": "code",
   "execution_count": 6,
   "metadata": {
    "colab": {},
    "colab_type": "code",
    "id": "ZAiJWgKrpLy2"
   },
   "outputs": [],
   "source": [
    "SEED = 42\n",
    "torch.manual_seed(SEED)\n",
    "torch.cuda.manual_seed(SEED)\n",
    "np.random.seed(SEED)\n",
    "torch.backends.cudnn.deterministic = True\n",
    "set_global_seed(SEED)"
   ]
  },
  {
   "cell_type": "code",
   "execution_count": 7,
   "metadata": {
    "colab": {},
    "colab_type": "code",
    "id": "F5cK-cvnq39g"
   },
   "outputs": [],
   "source": [
    "BATCH_SIZE = 64\n",
    "LR = 1e-5"
   ]
  },
  {
   "cell_type": "code",
   "execution_count": 8,
   "metadata": {
    "colab": {
     "base_uri": "https://localhost:8080/",
     "height": 204
    },
    "colab_type": "code",
    "id": "EnnIbM6lpQn8",
    "outputId": "b7bd16ad-a2c4-4f94-b77c-5b3af8ad0c7b"
   },
   "outputs": [
    {
     "data": {
      "text/html": [
       "<div>\n",
       "<style scoped>\n",
       "    .dataframe tbody tr th:only-of-type {\n",
       "        vertical-align: middle;\n",
       "    }\n",
       "\n",
       "    .dataframe tbody tr th {\n",
       "        vertical-align: top;\n",
       "    }\n",
       "\n",
       "    .dataframe thead th {\n",
       "        text-align: right;\n",
       "    }\n",
       "</style>\n",
       "<table border=\"1\" class=\"dataframe\">\n",
       "  <thead>\n",
       "    <tr style=\"text-align: right;\">\n",
       "      <th></th>\n",
       "      <th>label</th>\n",
       "      <th>text</th>\n",
       "    </tr>\n",
       "  </thead>\n",
       "  <tbody>\n",
       "    <tr>\n",
       "      <th>0</th>\n",
       "      <td>neutral</td>\n",
       "      <td>Александр, тебе к лицу эта пушка :)\\n</td>\n",
       "    </tr>\n",
       "    <tr>\n",
       "      <th>1</th>\n",
       "      <td>positive</td>\n",
       "      <td>Скоро ты вернешься домой, грязный, не бритый н...</td>\n",
       "    </tr>\n",
       "    <tr>\n",
       "      <th>2</th>\n",
       "      <td>neutral</td>\n",
       "      <td>помниш...))</td>\n",
       "    </tr>\n",
       "    <tr>\n",
       "      <th>3</th>\n",
       "      <td>skip</td>\n",
       "      <td>Мы просто с  [id12210212|Елисеем]  психанули )...</td>\n",
       "    </tr>\n",
       "    <tr>\n",
       "      <th>4</th>\n",
       "      <td>speech</td>\n",
       "      <td>ой, прости забыла поздравить, с праздничьком, ...</td>\n",
       "    </tr>\n",
       "  </tbody>\n",
       "</table>\n",
       "</div>"
      ],
      "text/plain": [
       "      label                                               text\n",
       "0   neutral              Александр, тебе к лицу эта пушка :)\\n\n",
       "1  positive  Скоро ты вернешься домой, грязный, не бритый н...\n",
       "2   neutral                                        помниш...))\n",
       "3      skip  Мы просто с  [id12210212|Елисеем]  психанули )...\n",
       "4    speech  ой, прости забыла поздравить, с праздничьком, ..."
      ]
     },
     "execution_count": 8,
     "metadata": {
      "tags": []
     },
     "output_type": "execute_result"
    }
   ],
   "source": [
    "train = pd.read_csv('rusentiment_random_posts.csv')\n",
    "test = pd.read_csv('rusentiment_test.csv')\n",
    "test.head()"
   ]
  },
  {
   "cell_type": "code",
   "execution_count": 9,
   "metadata": {
    "colab": {
     "base_uri": "https://localhost:8080/",
     "height": 281
    },
    "colab_type": "code",
    "id": "I4Z9FZnapT6o",
    "outputId": "55ff5076-32f9-499d-e96a-00d6b2f0ba0f"
   },
   "outputs": [
    {
     "data": {
      "image/png": "[encoded data removed]",
      "text/plain": [
       "<Figure size 720x288 with 2 Axes>"
      ]
     },
     "metadata": {
      "needs_background": "light",
      "tags": []
     },
     "output_type": "display_data"
    }
   ],
   "source": [
    "fig, ax = plt.subplots(nrows=1, ncols=2, figsize=(10, 4), sharey=True)\n",
    "\n",
    "ax[0].hist(sorted(train.label), density=True);\n",
    "ax[0].set_title('Train labels distribution');\n",
    "\n",
    "ax[1].hist(sorted(test.label), density=True);\n",
    "ax[1].set_title('Test labels distribution');"
   ]
  },
  {
   "cell_type": "code",
   "execution_count": 9,
   "metadata": {
    "colab": {
     "base_uri": "https://localhost:8080/",
     "height": 35
    },
    "colab_type": "code",
    "id": "ksoBeICVpYxz",
    "outputId": "76461982-0aa3-4ba8-c85c-dd1d72687b6b"
   },
   "outputs": [
    {
     "data": {
      "text/plain": [
       "LabelEncoder()"
      ]
     },
     "execution_count": 9,
     "metadata": {
      "tags": []
     },
     "output_type": "execute_result"
    }
   ],
   "source": [
    "le = LabelEncoder()\n",
    "total_labels = pd.concat([train.label, test.label], ignore_index=True).values\n",
    "le.fit(total_labels)"
   ]
  },
  {
   "cell_type": "code",
   "execution_count": 10,
   "metadata": {
    "colab": {
     "base_uri": "https://localhost:8080/",
     "height": 35
    },
    "colab_type": "code",
    "id": "vL9DWA2dpdp1",
    "outputId": "57599382-cac1-4d5d-be1f-dee0ad9bd1b1"
   },
   "outputs": [
    {
     "data": {
      "text/plain": [
       "array(['negative', 'neutral', 'positive', 'skip', 'speech'], dtype=object)"
      ]
     },
     "execution_count": 10,
     "metadata": {
      "tags": []
     },
     "output_type": "execute_result"
    }
   ],
   "source": [
    "le.classes_"
   ]
  },
  {
   "cell_type": "code",
   "execution_count": 11,
   "metadata": {
    "colab": {},
    "colab_type": "code",
    "id": "VsSMBtNupgCZ"
   },
   "outputs": [],
   "source": [
    "train['label'] = le.transform(train.label)\n",
    "test['label'] = le.transform(test.label)"
   ]
  },
  {
   "cell_type": "code",
   "execution_count": 12,
   "metadata": {
    "colab": {},
    "colab_type": "code",
    "id": "_iZvWRQCpj7J"
   },
   "outputs": [],
   "source": [
    "def stratified_split(X, y, n_splits: int=1, test_size: float=0.2, \n",
    "                     random_state: int=SEED):\n",
    "    ss = StratifiedShuffleSplit(n_splits=n_splits, \n",
    "                                test_size=test_size, \n",
    "                                random_state=random_state)\n",
    "    for train_idx, test_idx in ss.split(X, y):\n",
    "        yield X[train_idx], y[train_idx], X[test_idx], y[test_idx]"
   ]
  },
  {
   "cell_type": "code",
   "execution_count": 13,
   "metadata": {
    "colab": {
     "base_uri": "https://localhost:8080/",
     "height": 35
    },
    "colab_type": "code",
    "id": "1IRJfwHIpk3e",
    "outputId": "42fa8a78-a48a-49a3-8592-3c9e915be6de"
   },
   "outputs": [
    {
     "data": {
      "text/plain": [
       "((19141,), (2127,), (2967,))"
      ]
     },
     "execution_count": 13,
     "metadata": {
      "tags": []
     },
     "output_type": "execute_result"
    }
   ],
   "source": [
    "X_train, y_train, X_valid, y_valid = next(iter(stratified_split(train.text.values, \n",
    "                                                                train.label.values, \n",
    "                                                                test_size=0.1)))\n",
    "X_test, y_test = test.text, test.label\n",
    "X_train.shape, X_valid.shape, X_test.shape"
   ]
  },
  {
   "cell_type": "markdown",
   "metadata": {
    "colab_type": "text",
    "id": "CwakFgosp0oB"
   },
   "source": [
    "# Teacher"
   ]
  },
  {
   "cell_type": "code",
   "execution_count": null,
   "metadata": {
    "colab": {},
    "colab_type": "code",
    "id": "FrvYav5qtqK0"
   },
   "outputs": [],
   "source": [
    "url = 'http://files.deeppavlov.ai/deeppavlov_data/bert/rubert_cased_L-12_H-768_A-12_pt.tar.gz'"
   ]
  },
  {
   "cell_type": "code",
   "execution_count": null,
   "metadata": {
    "colab": {},
    "colab_type": "code",
    "id": "KpjPYkw6tnnz"
   },
   "outputs": [],
   "source": [
    "%%bash -s \"$url\"\n",
    "wget -O rubert.tar.gz $1\n",
    "mkdir -p rubert && tar -C rubert/ -zxvf rubert.tar.gz --strip-components=1\n",
    "mv rubert/bert_config.json rubert/config.json"
   ]
  },
  {
   "cell_type": "markdown",
   "metadata": {
    "colab_type": "text",
    "id": "zr8LFhpXp3wd"
   },
   "source": [
    "## Tokenizer"
   ]
  },
  {
   "cell_type": "code",
   "execution_count": 15,
   "metadata": {
    "colab": {},
    "colab_type": "code",
    "id": "_a73RELLqDS3"
   },
   "outputs": [],
   "source": [
    "model_name = 'rubert'\n",
    "bert_tokenizer = transformers.AutoTokenizer.from_pretrained(model_name)"
   ]
  },
  {
   "cell_type": "markdown",
   "metadata": {
    "colab_type": "text",
    "id": "YcMSxRhqqJMd"
   },
   "source": [
    "## Dataset and dataloader"
   ]
  },
  {
   "cell_type": "code",
   "execution_count": 16,
   "metadata": {
    "colab": {},
    "colab_type": "code",
    "id": "_MSsIILSqMTj"
   },
   "outputs": [],
   "source": [
    "import classification_dataset as clf"
   ]
  },
  {
   "cell_type": "code",
   "execution_count": 17,
   "metadata": {
    "colab": {},
    "colab_type": "code",
    "id": "nG4gNcsSqgqa"
   },
   "outputs": [],
   "source": [
    "train_dataset = clf.ClassificationDataset(X_train, y_train, bert_tokenizer)\n",
    "valid_dataset = clf.ClassificationDataset(X_valid, y_valid, bert_tokenizer)\n",
    "test_dataset = clf.ClassificationDataset(X_test, y_test, bert_tokenizer)"
   ]
  },
  {
   "cell_type": "code",
   "execution_count": 18,
   "metadata": {
    "colab": {},
    "colab_type": "code",
    "id": "YfLYYurzqxme"
   },
   "outputs": [],
   "source": [
    "train_loader = DataLoader(train_dataset, batch_size=BATCH_SIZE, shuffle=True)\n",
    "valid_loader = DataLoader(valid_dataset, batch_size=BATCH_SIZE, shuffle=False)\n",
    "test_loader = DataLoader(test_dataset, batch_size=BATCH_SIZE, shuffle=False)\n",
    "\n",
    "train_loaders = {'train': train_loader, \n",
    "                 'valid': valid_loader}"
   ]
  },
  {
   "cell_type": "markdown",
   "metadata": {
    "colab_type": "text",
    "id": "sZ2LcsTurYq2"
   },
   "source": [
    "## Model"
   ]
  },
  {
   "cell_type": "code",
   "execution_count": 19,
   "metadata": {
    "colab": {},
    "colab_type": "code",
    "id": "Gzgyu2Jnrcqb"
   },
   "outputs": [],
   "source": [
    "import bert\n",
    "import losses\n",
    "from runner import CustomRunner"
   ]
  },
  {
   "cell_type": "code",
   "execution_count": 20,
   "metadata": {
    "colab": {},
    "colab_type": "code",
    "id": "HJC5BFrcrx2U"
   },
   "outputs": [],
   "source": [
    "def init_optim(model: nn.Module, lr: float=1e-4):\n",
    "    optimizer_grouped_parameters = [\n",
    "                                    {'params': \n",
    "                                     [p for n, p in model.named_parameters()], \n",
    "                                     'weight_decay': 0.},]\n",
    "    optimizer = transformers.AdamW(optimizer_grouped_parameters, lr=lr)\n",
    "    return optimizer"
   ]
  },
  {
   "cell_type": "code",
   "execution_count": 21,
   "metadata": {
    "colab": {},
    "colab_type": "code",
    "id": "AF-A1FbFrfVl"
   },
   "outputs": [],
   "source": [
    "teacher = bert.BertForSeqClf('rubert', len(le.classes_))\n",
    "optimizer = init_optim(teacher, LR)\n",
    "criterion = losses.CELossWithT()"
   ]
  },
  {
   "cell_type": "code",
   "execution_count": 23,
   "metadata": {
    "colab": {},
    "colab_type": "code",
    "id": "tMH6cPBZuBn0"
   },
   "outputs": [],
   "source": [
    "run = CustomRunner(device=DEVICE)"
   ]
  },
  {
   "cell_type": "code",
   "execution_count": 24,
   "metadata": {
    "colab": {
     "base_uri": "https://localhost:8080/",
     "height": 359
    },
    "colab_type": "code",
    "id": "2sqb8HG3uYYN",
    "outputId": "35811cac-690e-461c-f707-308f45d88b51"
   },
   "outputs": [
    {
     "name": "stdout",
     "output_type": "stream",
     "text": [
      "1/3 * Epoch (train): 100% 300/300 [03:21<00:00,  1.49it/s, f1_score=0.389, loss=1.096]\n",
      "1/3 * Epoch (valid): 100% 34/34 [00:07<00:00,  4.45it/s, f1_score=0.557, loss=0.591]\n",
      "[2020-09-25 11:05:20,225] \n",
      "1/3 * Epoch 1 (train): f1_score=0.5061 | loss=1.0098\n",
      "1/3 * Epoch 1 (valid): f1_score=0.6331 | loss=0.8335\n",
      "2/3 * Epoch (train): 100% 300/300 [03:25<00:00,  1.46it/s, f1_score=0.167, loss=1.209]\n",
      "2/3 * Epoch (valid): 100% 34/34 [00:07<00:00,  4.48it/s, f1_score=0.547, loss=0.655]\n",
      "[2020-09-25 11:11:59,037] \n",
      "2/3 * Epoch 2 (train): f1_score=0.6777 | loss=0.7354\n",
      "2/3 * Epoch 2 (valid): f1_score=0.6202 | loss=0.8143\n",
      "3/3 * Epoch (train): 100% 300/300 [03:25<00:00,  1.46it/s, f1_score=0.778, loss=0.495]\n",
      "3/3 * Epoch (valid): 100% 34/34 [00:07<00:00,  4.47it/s, f1_score=0.557, loss=0.541]\n",
      "[2020-09-25 11:17:24,632] \n",
      "3/3 * Epoch 3 (train): f1_score=0.7417 | loss=0.6050\n",
      "3/3 * Epoch 3 (valid): f1_score=0.6744 | loss=0.7817\n",
      "Top best models:\n",
      "/logs/checkpoints/train.3.pth\t0.6744\n",
      "=> Loading checkpoint /logs/checkpoints/best_full.pth\n",
      "loaded state checkpoint /logs/checkpoints/best_full.pth (global epoch 3, epoch 3, stage train)\n"
     ]
    }
   ],
   "source": [
    "run.train(\n",
    "    model=teacher,\n",
    "    optimizer=optimizer,\n",
    "    criterion=criterion,\n",
    "    loaders=train_loaders,\n",
    "    valid_loader='valid',\n",
    "    logdir='/logs',\n",
    "    num_epochs=3,\n",
    "    verbose=True,\n",
    "    load_best_on_end=True,\n",
    "    main_metric='f1_score', \n",
    "    minimize_metric=False\n",
    ")"
   ]
  },
  {
   "cell_type": "code",
   "execution_count": 25,
   "metadata": {
    "colab": {},
    "colab_type": "code",
    "id": "hwWyS5GAupky"
   },
   "outputs": [],
   "source": [
    "logits, loss, score = run.predict_loader(test_loader)"
   ]
  },
  {
   "cell_type": "code",
   "execution_count": 26,
   "metadata": {
    "colab": {
     "base_uri": "https://localhost:8080/",
     "height": 35
    },
    "colab_type": "code",
    "id": "dVgqOsT0urjW",
    "outputId": "d1eb9027-904c-4023-d3af-6833fdd579b9"
   },
   "outputs": [
    {
     "data": {
      "text/plain": [
       "(0.7044458370259468, 0.6654759426457386)"
      ]
     },
     "execution_count": 26,
     "metadata": {
      "tags": []
     },
     "output_type": "execute_result"
    }
   ],
   "source": [
    "loss, score"
   ]
  },
  {
   "cell_type": "markdown",
   "metadata": {
    "colab_type": "text",
    "id": "ndsxO693vCTF"
   },
   "source": [
    "# Student"
   ]
  },
  {
   "cell_type": "markdown",
   "metadata": {
    "colab_type": "text",
    "id": "VRPsXxM7vGyX"
   },
   "source": [
    "## Tokenizer"
   ]
  },
  {
   "cell_type": "code",
   "execution_count": 22,
   "metadata": {
    "colab": {},
    "colab_type": "code",
    "id": "nEqrvlZWv2pL"
   },
   "outputs": [],
   "source": [
    "from bpe_tokenizer import BPETokenizer"
   ]
  },
  {
   "cell_type": "code",
   "execution_count": 23,
   "metadata": {
    "colab": {
     "base_uri": "https://localhost:8080/",
     "height": 53
    },
    "colab_type": "code",
    "id": "tafOI5cfv0V6",
    "outputId": "fbab4cb2-ecf3-456b-e023-e036ee6f8634"
   },
   "outputs": [
    {
     "name": "stdout",
     "output_type": "stream",
     "text": [
      "CPU times: user 760 ms, sys: 214 ms, total: 974 ms\n",
      "Wall time: 684 ms\n"
     ]
    }
   ],
   "source": [
    "%%time\n",
    "bpe_tokenizer = BPETokenizer()\n",
    "bpe_tokenizer.gen_txt(pd.concat([train.text, test.text], ignore_index=True))\n",
    "bpe_tokenizer.train(vocab_size=10000)"
   ]
  },
  {
   "cell_type": "markdown",
   "metadata": {
    "colab_type": "text",
    "id": "EcErvje2xilB"
   },
   "source": [
    "## Dataset and dataloader"
   ]
  },
  {
   "cell_type": "code",
   "execution_count": 24,
   "metadata": {
    "colab": {},
    "colab_type": "code",
    "id": "M_n2cxFVwOTa"
   },
   "outputs": [],
   "source": [
    "import student_dataset as st"
   ]
  },
  {
   "cell_type": "code",
   "execution_count": 25,
   "metadata": {
    "colab": {},
    "colab_type": "code",
    "id": "QfRUaD7CvGAi"
   },
   "outputs": [],
   "source": [
    "train_dataset_st = st.StudentDataset(X_train, y_train, bpe_tokenizer.bpe_model)\n",
    "valid_dataset_st = st.StudentDataset(X_valid, y_valid, bpe_tokenizer.bpe_model)\n",
    "test_dataset_st = st.StudentDataset(X_test, y_test, bpe_tokenizer.bpe_model)"
   ]
  },
  {
   "cell_type": "code",
   "execution_count": 26,
   "metadata": {
    "colab": {},
    "colab_type": "code",
    "id": "JwfShaiQwYkY"
   },
   "outputs": [],
   "source": [
    "train_loader_st = DataLoader(train_dataset_st, batch_size=BATCH_SIZE, \n",
    "                          shuffle=True, collate_fn=train_dataset_st.collate_fn)\n",
    "valid_loader_st = DataLoader(valid_dataset_st, batch_size=BATCH_SIZE, \n",
    "                          shuffle=False, collate_fn=valid_dataset_st.collate_fn)\n",
    "test_loader_st = DataLoader(test_dataset_st, batch_size=BATCH_SIZE, \n",
    "                         shuffle=False, collate_fn=test_dataset_st.collate_fn)"
   ]
  },
  {
   "cell_type": "code",
   "execution_count": 27,
   "metadata": {
    "colab": {},
    "colab_type": "code",
    "id": "uZI6Zfc1xHTr"
   },
   "outputs": [],
   "source": [
    "train_loaders_st = {'train': train_loader_st, \n",
    "                    'valid': valid_loader_st}"
   ]
  },
  {
   "cell_type": "code",
   "execution_count": 28,
   "metadata": {
    "colab": {},
    "colab_type": "code",
    "id": "UoHuTLKSxLqt"
   },
   "outputs": [],
   "source": [
    "vocab_size = bpe_tokenizer.bpe_model.vocab_size()\n",
    "padding_idx = bpe_tokenizer.bpe_model.subword_to_id('PAD')"
   ]
  },
  {
   "cell_type": "markdown",
   "metadata": {
    "colab_type": "text",
    "id": "GNmqBDoQxbZP"
   },
   "source": [
    "## Model"
   ]
  },
  {
   "cell_type": "code",
   "execution_count": 29,
   "metadata": {
    "colab": {},
    "colab_type": "code",
    "id": "TNpYzG9PzML2"
   },
   "outputs": [],
   "source": [
    "from student import Student"
   ]
  },
  {
   "cell_type": "code",
   "execution_count": 30,
   "metadata": {
    "colab": {},
    "colab_type": "code",
    "id": "A8FnpeoLjFPd"
   },
   "outputs": [],
   "source": [
    "LR_S = 1e-3"
   ]
  },
  {
   "cell_type": "code",
   "execution_count": 31,
   "metadata": {
    "colab": {},
    "colab_type": "code",
    "id": "8vMGEM3ZxYdl"
   },
   "outputs": [],
   "source": [
    "student = Student(input_size=vocab_size, embedding_dim=128, hidden_dim=128, \n",
    "                  padding_idx=padding_idx, bidirect=True, \n",
    "                  n_layers=2, dropout_p=0.3, n_classes=len(le.classes_))\n",
    "optimizer = init_optim(student, lr=LR_S)\n",
    "criterion = losses.CELossWithT()"
   ]
  },
  {
   "cell_type": "code",
   "execution_count": 32,
   "metadata": {
    "colab": {},
    "colab_type": "code",
    "id": "-yssUba4x1HK"
   },
   "outputs": [],
   "source": [
    "run1 = CustomRunner(device=DEVICE)"
   ]
  },
  {
   "cell_type": "code",
   "execution_count": 33,
   "metadata": {
    "colab": {
     "base_uri": "https://localhost:8080/",
     "height": 539
    },
    "colab_type": "code",
    "id": "cNNt6mJhx8-p",
    "outputId": "78e90c39-a476-4073-97fa-1d6ca126cc7a"
   },
   "outputs": [
    {
     "name": "stdout",
     "output_type": "stream",
     "text": [
      "1/5 * Epoch (train): 100% 300/300 [00:05<00:00, 51.70it/s, f1_score=0.190, loss=1.222]\n",
      "1/5 * Epoch (valid): 100% 34/34 [00:00<00:00, 98.12it/s, f1_score=0.316, loss=1.088]\n",
      "[2020-09-25 11:28:43,311] \n",
      "1/5 * Epoch 1 (train): f1_score=0.2894 | loss=1.2971\n",
      "1/5 * Epoch 1 (valid): f1_score=0.3595 | loss=1.1927\n",
      "2/5 * Epoch (train): 100% 300/300 [00:05<00:00, 53.49it/s, f1_score=0.000e+00, loss=1.783]\n",
      "2/5 * Epoch (valid): 100% 34/34 [00:00<00:00, 97.10it/s, f1_score=0.533, loss=0.900]\n",
      "[2020-09-25 11:28:49,395] \n",
      "2/5 * Epoch 2 (train): f1_score=0.4451 | loss=1.0887\n",
      "2/5 * Epoch 2 (valid): f1_score=0.4629 | loss=1.0970\n",
      "3/5 * Epoch (train): 100% 300/300 [00:05<00:00, 53.91it/s, f1_score=1.000, loss=0.410]\n",
      "3/5 * Epoch (valid): 100% 34/34 [00:00<00:00, 98.78it/s, f1_score=0.613, loss=0.967]\n",
      "[2020-09-25 11:28:55,424] \n",
      "3/5 * Epoch 3 (train): f1_score=0.5674 | loss=0.9285\n",
      "3/5 * Epoch 3 (valid): f1_score=0.5163 | loss=1.0402\n",
      "4/5 * Epoch (train): 100% 300/300 [00:05<00:00, 53.05it/s, f1_score=0.350, loss=0.895]\n",
      "4/5 * Epoch (valid): 100% 34/34 [00:00<00:00, 100.49it/s, f1_score=0.548, loss=0.927]\n",
      "[2020-09-25 11:29:01,525] \n",
      "4/5 * Epoch 4 (train): f1_score=0.6632 | loss=0.7693\n",
      "4/5 * Epoch 4 (valid): f1_score=0.5197 | loss=1.0750\n",
      "5/5 * Epoch (train): 100% 300/300 [00:05<00:00, 53.79it/s, f1_score=0.489, loss=0.952]\n",
      "5/5 * Epoch (valid): 100% 34/34 [00:00<00:00, 98.30it/s, f1_score=0.548, loss=0.977]\n",
      "[2020-09-25 11:29:07,560] \n",
      "5/5 * Epoch 5 (train): f1_score=0.7371 | loss=0.6162\n",
      "5/5 * Epoch 5 (valid): f1_score=0.5576 | loss=1.1102\n",
      "Top best models:\n",
      "/logs/checkpoints/train.5.pth\t0.5576\n",
      "=> Loading checkpoint /logs/checkpoints/best_full.pth\n",
      "loaded state checkpoint /logs/checkpoints/best_full.pth (global epoch 5, epoch 5, stage train)\n"
     ]
    }
   ],
   "source": [
    "# training baseline model\n",
    "run1.train(\n",
    "    model=student,\n",
    "    optimizer=optimizer,\n",
    "    criterion=criterion,\n",
    "    loaders=train_loaders_st,\n",
    "    valid_loader='valid',\n",
    "    logdir='/logs',\n",
    "    num_epochs=5,\n",
    "    verbose=True,\n",
    "    load_best_on_end=True,\n",
    "    main_metric='f1_score', \n",
    "    minimize_metric=False\n",
    ")"
   ]
  },
  {
   "cell_type": "code",
   "execution_count": 34,
   "metadata": {
    "colab": {
     "base_uri": "https://localhost:8080/",
     "height": 35
    },
    "colab_type": "code",
    "id": "2r4AWirI1kIn",
    "outputId": "ef17dfe3-6f6f-400e-f49b-af68debc1414"
   },
   "outputs": [
    {
     "data": {
      "text/plain": [
       "(0.9944408891048837, 0.5583305396883095)"
      ]
     },
     "execution_count": 34,
     "metadata": {
      "tags": []
     },
     "output_type": "execute_result"
    }
   ],
   "source": [
    "logits, loss, score = run1.predict_loader(test_loader_st)\n",
    "loss, score"
   ]
  },
  {
   "cell_type": "markdown",
   "metadata": {
    "colab_type": "text",
    "id": "1AYDT0zs6WqH"
   },
   "source": [
    "We see that student baseline model gives worst $f_1$ than the teacher. Now let's try to improve student's predictions by training it on teacher's logits with different softmax temperatures."
   ]
  },
  {
   "cell_type": "markdown",
   "metadata": {
    "colab_type": "text",
    "id": "3ztavA841pun"
   },
   "source": [
    "# Distillation"
   ]
  },
  {
   "cell_type": "code",
   "execution_count": 35,
   "metadata": {
    "colab": {},
    "colab_type": "code",
    "id": "gkz6DsWdqMJg"
   },
   "outputs": [],
   "source": [
    "from catalyst import dl"
   ]
  },
  {
   "cell_type": "code",
   "execution_count": 36,
   "metadata": {
    "colab": {},
    "colab_type": "code",
    "id": "bKmsaFox2Ihj"
   },
   "outputs": [],
   "source": [
    "#  softmax temperatures\n",
    "T = list(range(1, 30, 4))\n",
    "res = dict.fromkeys(T)\n",
    "\n",
    "teacher_criterion = losses.CELossWithT()\n",
    "student_criterion = losses.DistillationLoss(alpha=3)\n",
    "run2 = CustomRunner(device=DEVICE)"
   ]
  },
  {
   "cell_type": "code",
   "execution_count": 37,
   "metadata": {
    "colab": {},
    "colab_type": "code",
    "id": "LIAOKG1gpoZs"
   },
   "outputs": [],
   "source": [
    "def teacher_predict(run: dl.Runner, dataloaders: dict):\n",
    "    d = dict.fromkeys(dataloaders.keys())\n",
    "    test_loss = test_score = 0\n",
    "    for dl_name, loader in dataloaders.items():\n",
    "        logit, loss, score = run.predict_loader(loader)\n",
    "        d[dl_name] = logit.cpu().numpy()\n",
    "        if dl_name == 'test':\n",
    "            test_loss = loss; test_score = score\n",
    "    return d, test_loss, test_score"
   ]
  },
  {
   "cell_type": "code",
   "execution_count": 38,
   "metadata": {
    "colab": {
     "base_uri": "https://localhost:8080/",
     "height": 1000
    },
    "colab_type": "code",
    "id": "_tKDoKgJ7VvM",
    "outputId": "f50096df-efc1-403f-bdde-651e4499e31d"
   },
   "outputs": [
    {
     "name": "stdout",
     "output_type": "stream",
     "text": [
      "1/3 * Epoch (train): 100% 300/300 [02:59<00:00,  1.67it/s, f1_score=0.292, loss=1.092]\n",
      "1/3 * Epoch (valid): 100% 34/34 [00:06<00:00,  5.01it/s, f1_score=0.557, loss=0.591]\n",
      "[2020-09-25 11:32:39,403] \n",
      "1/3 * Epoch 1 (train): f1_score=0.4945 | loss=1.0413\n",
      "1/3 * Epoch 1 (valid): f1_score=0.6298 | loss=0.8463\n",
      "2/3 * Epoch (train): 100% 300/300 [03:01<00:00,  1.66it/s, f1_score=0.167, loss=1.482]\n",
      "2/3 * Epoch (valid): 100% 34/34 [00:06<00:00,  4.95it/s, f1_score=0.577, loss=0.663]\n",
      "[2020-09-25 11:38:52,776] \n",
      "2/3 * Epoch 2 (train): f1_score=0.6721 | loss=0.7514\n",
      "2/3 * Epoch 2 (valid): f1_score=0.6032 | loss=0.8328\n",
      "3/3 * Epoch (train): 100% 300/300 [03:00<00:00,  1.66it/s, f1_score=1.000, loss=0.374]\n",
      "3/3 * Epoch (valid): 100% 34/34 [00:06<00:00,  4.95it/s, f1_score=0.747, loss=0.521]\n",
      "[2020-09-25 11:43:53,652] \n",
      "3/3 * Epoch 3 (train): f1_score=0.7330 | loss=0.6249\n",
      "3/3 * Epoch 3 (valid): f1_score=0.6688 | loss=0.7797\n",
      "Top best models:\n",
      "logs/checkpoints/train.3.pth\t0.6688\n",
      "=> Loading checkpoint logs/checkpoints/best_full.pth\n",
      "loaded state checkpoint logs/checkpoints/best_full.pth (global epoch 3, epoch 3, stage train)\n",
      "1/5 * Epoch (train): 100% 300/300 [00:05<00:00, 50.74it/s, f1_score=0.190, loss=3.628]\n",
      "1/5 * Epoch (valid): 100% 34/34 [00:00<00:00, 88.55it/s, f1_score=0.127, loss=4.752]\n",
      "[2020-09-25 11:49:25,754] \n",
      "1/5 * Epoch 3 (train): f1_score=0.1126 | loss=4.9174\n",
      "1/5 * Epoch 3 (valid): f1_score=0.1117 | loss=4.7671\n",
      "2/5 * Epoch (train): 100% 300/300 [00:05<00:00, 51.21it/s, f1_score=0.083, loss=5.228]\n",
      "2/5 * Epoch (valid): 100% 34/34 [00:00<00:00, 90.98it/s, f1_score=0.127, loss=4.799]\n",
      "[2020-09-25 11:49:32,124] \n",
      "2/5 * Epoch 4 (train): f1_score=0.1125 | loss=4.8659\n",
      "2/5 * Epoch 4 (valid): f1_score=0.1117 | loss=4.7366\n",
      "3/5 * Epoch (train): 100% 300/300 [00:05<00:00, 52.12it/s, f1_score=0.375, loss=4.186]\n",
      "3/5 * Epoch (valid): 100% 34/34 [00:00<00:00, 94.11it/s, f1_score=0.127, loss=4.835]\n",
      "[2020-09-25 11:49:38,339] \n",
      "3/5 * Epoch 5 (train): f1_score=0.1277 | loss=4.8038\n",
      "3/5 * Epoch 5 (valid): f1_score=0.1336 | loss=4.7275\n",
      "4/5 * Epoch (train): 100% 300/300 [00:05<00:00, 51.22it/s, f1_score=0.100, loss=4.434]\n",
      "4/5 * Epoch (valid): 100% 34/34 [00:00<00:00, 92.40it/s, f1_score=0.114, loss=4.910]\n",
      "[2020-09-25 11:49:44,692] \n",
      "4/5 * Epoch 6 (train): f1_score=0.1722 | loss=4.6722\n",
      "4/5 * Epoch 6 (valid): f1_score=0.1581 | loss=4.7823\n",
      "5/5 * Epoch (train): 100% 300/300 [00:05<00:00, 51.69it/s, f1_score=0.167, loss=6.169]\n",
      "5/5 * Epoch (valid): 100% 34/34 [00:00<00:00, 94.91it/s, f1_score=0.114, loss=5.368]\n",
      "[2020-09-25 11:49:50,964] \n",
      "5/5 * Epoch 7 (train): f1_score=0.2078 | loss=4.4391\n",
      "5/5 * Epoch 7 (valid): f1_score=0.1907 | loss=4.8869\n",
      "Top best models:\n",
      "/logs/checkpoints/train.5.pth\t0.1907\n",
      "=> Loading checkpoint /logs/checkpoints/best_full.pth\n",
      "loaded state checkpoint /logs/checkpoints/best_full.pth (global epoch 7, epoch 5, stage train)\n",
      "1/3 * Epoch (train): 100% 300/300 [03:01<00:00,  1.66it/s, f1_score=0.190, loss=1.111]\n",
      "1/3 * Epoch (valid): 100% 34/34 [00:06<00:00,  4.96it/s, f1_score=0.547, loss=0.868]\n",
      "[2020-09-25 11:53:22,910] \n",
      "1/3 * Epoch 7 (train): f1_score=0.4257 | loss=1.2183\n",
      "1/3 * Epoch 7 (valid): f1_score=0.5762 | loss=0.9942\n",
      "2/3 * Epoch (train): 100% 300/300 [03:01<00:00,  1.65it/s, f1_score=0.833, loss=0.719]\n",
      "2/3 * Epoch (valid): 100% 34/34 [00:06<00:00,  4.94it/s, f1_score=0.528, loss=0.727]\n",
      "[2020-09-25 11:59:37,028] \n",
      "2/3 * Epoch 8 (train): f1_score=0.6621 | loss=0.8655\n",
      "2/3 * Epoch 8 (valid): f1_score=0.6379 | loss=0.8564\n",
      "3/3 * Epoch (train): 100% 300/300 [03:02<00:00,  1.65it/s, f1_score=0.667, loss=0.514]\n",
      "3/3 * Epoch (valid): 100% 34/34 [00:06<00:00,  4.92it/s, f1_score=0.677, loss=0.586]\n",
      "[2020-09-25 12:05:51,487] \n",
      "3/3 * Epoch 9 (train): f1_score=0.7318 | loss=0.7065\n",
      "3/3 * Epoch 9 (valid): f1_score=0.6656 | loss=0.8146\n",
      "Top best models:\n",
      "logs/checkpoints/train.3.pth\t0.6656\n",
      "=> Loading checkpoint logs/checkpoints/best_full.pth\n",
      "loaded state checkpoint logs/checkpoints/best_full.pth (global epoch 9, epoch 3, stage train)\n",
      "1/5 * Epoch (train): 100% 300/300 [00:06<00:00, 45.81it/s, f1_score=0.350, loss=5.310]\n",
      "1/5 * Epoch (valid): 100% 34/34 [00:00<00:00, 85.57it/s, f1_score=0.340, loss=4.713]\n",
      "[2020-09-25 12:11:24,389] \n",
      "1/5 * Epoch 9 (train): f1_score=0.2138 | loss=5.1173\n",
      "1/5 * Epoch 9 (valid): f1_score=0.2563 | loss=4.8795\n",
      "2/5 * Epoch (train): 100% 300/300 [00:06<00:00, 47.05it/s, f1_score=0.080, loss=5.513]\n",
      "2/5 * Epoch (valid): 100% 34/34 [00:00<00:00, 85.48it/s, f1_score=0.481, loss=4.699]\n",
      "[2020-09-25 12:11:31,291] \n",
      "2/5 * Epoch 10 (train): f1_score=0.2824 | loss=5.0535\n",
      "2/5 * Epoch 10 (valid): f1_score=0.2897 | loss=4.7819\n",
      "3/5 * Epoch (train): 100% 300/300 [00:06<00:00, 47.82it/s, f1_score=0.375, loss=5.133]\n",
      "3/5 * Epoch (valid): 100% 34/34 [00:00<00:00, 82.56it/s, f1_score=0.436, loss=4.516]\n",
      "[2020-09-25 12:11:38,139] \n",
      "3/5 * Epoch 11 (train): f1_score=0.3440 | loss=4.9975\n",
      "3/5 * Epoch 11 (valid): f1_score=0.3714 | loss=4.6909\n",
      "4/5 * Epoch (train): 100% 300/300 [00:06<00:00, 48.23it/s, f1_score=0.467, loss=4.834]\n",
      "4/5 * Epoch (valid): 100% 34/34 [00:00<00:00, 88.03it/s, f1_score=0.578, loss=4.454]\n",
      "[2020-09-25 12:11:44,868] \n",
      "4/5 * Epoch 12 (train): f1_score=0.4085 | loss=4.9182\n",
      "4/5 * Epoch 12 (valid): f1_score=0.3937 | loss=4.6323\n",
      "5/5 * Epoch (train): 100% 300/300 [00:06<00:00, 48.14it/s, f1_score=0.600, loss=4.635]\n",
      "5/5 * Epoch (valid): 100% 34/34 [00:00<00:00, 84.16it/s, f1_score=0.642, loss=4.315]\n",
      "[2020-09-25 12:11:51,625] \n",
      "5/5 * Epoch 13 (train): f1_score=0.4583 | loss=4.8142\n",
      "5/5 * Epoch 13 (valid): f1_score=0.4174 | loss=4.6183\n",
      "Top best models:\n",
      "/logs/checkpoints/train.5.pth\t0.4174\n",
      "=> Loading checkpoint /logs/checkpoints/best_full.pth\n",
      "loaded state checkpoint /logs/checkpoints/best_full.pth (global epoch 13, epoch 5, stage train)\n",
      "1/3 * Epoch (train): 100% 300/300 [03:01<00:00,  1.65it/s, f1_score=0.600, loss=0.914]\n",
      "1/3 * Epoch (valid): 100% 34/34 [00:06<00:00,  4.90it/s, f1_score=0.557, loss=1.092]\n",
      "[2020-09-25 12:15:24,608] \n",
      "1/3 * Epoch 13 (train): f1_score=0.3687 | loss=1.3458\n",
      "1/3 * Epoch 13 (valid): f1_score=0.5392 | loss=1.1437\n",
      "2/3 * Epoch (train): 100% 300/300 [03:01<00:00,  1.65it/s, f1_score=0.700, loss=0.699]\n",
      "2/3 * Epoch (valid): 100% 34/34 [00:06<00:00,  4.92it/s, f1_score=0.528, loss=1.014]\n",
      "[2020-09-25 12:21:36,963] \n",
      "2/3 * Epoch 14 (train): f1_score=0.6163 | loss=1.0370\n",
      "2/3 * Epoch 14 (valid): f1_score=0.6304 | loss=0.9937\n",
      "3/3 * Epoch (train): 100% 300/300 [03:02<00:00,  1.65it/s, f1_score=0.167, loss=1.562]\n",
      "3/3 * Epoch (valid): 100% 34/34 [00:06<00:00,  4.93it/s, f1_score=0.557, loss=0.885]\n",
      "[2020-09-25 12:27:50,200] \n",
      "3/3 * Epoch 15 (train): f1_score=0.7050 | loss=0.8684\n",
      "3/3 * Epoch 15 (valid): f1_score=0.6503 | loss=0.9254\n",
      "Top best models:\n",
      "logs/checkpoints/train.3.pth\t0.6503\n",
      "=> Loading checkpoint logs/checkpoints/best_full.pth\n",
      "loaded state checkpoint logs/checkpoints/best_full.pth (global epoch 15, epoch 3, stage train)\n",
      "1/5 * Epoch (train): 100% 300/300 [00:06<00:00, 46.21it/s, f1_score=0.000e+00, loss=5.390]\n",
      "1/5 * Epoch (valid): 100% 34/34 [00:00<00:00, 85.18it/s, f1_score=0.449, loss=4.955]\n",
      "[2020-09-25 12:33:23,756] \n",
      "1/5 * Epoch 15 (train): f1_score=0.2518 | loss=5.2032\n",
      "1/5 * Epoch 15 (valid): f1_score=0.3056 | loss=5.0550\n",
      "2/5 * Epoch (train): 100% 300/300 [00:06<00:00, 47.29it/s, f1_score=1.000, loss=4.910]\n",
      "2/5 * Epoch (valid): 100% 34/34 [00:00<00:00, 86.03it/s, f1_score=0.558, loss=4.893]\n",
      "[2020-09-25 12:33:30,658] \n",
      "2/5 * Epoch 16 (train): f1_score=0.3679 | loss=5.1359\n",
      "2/5 * Epoch 16 (valid): f1_score=0.3842 | loss=4.9708\n",
      "3/5 * Epoch (train): 100% 300/300 [00:06<00:00, 47.08it/s, f1_score=0.111, loss=5.285]\n",
      "3/5 * Epoch (valid): 100% 34/34 [00:00<00:00, 83.09it/s, f1_score=0.548, loss=4.813]\n",
      "[2020-09-25 12:33:37,573] \n",
      "3/5 * Epoch 17 (train): f1_score=0.4663 | loss=5.0820\n",
      "3/5 * Epoch 17 (valid): f1_score=0.4422 | loss=4.9116\n",
      "4/5 * Epoch (train): 100% 300/300 [00:06<00:00, 46.78it/s, f1_score=0.417, loss=4.744]\n",
      "4/5 * Epoch (valid): 100% 34/34 [00:00<00:00, 84.01it/s, f1_score=0.619, loss=4.761]\n",
      "[2020-09-25 12:33:44,514] \n",
      "4/5 * Epoch 18 (train): f1_score=0.5645 | loss=5.0209\n",
      "4/5 * Epoch 18 (valid): f1_score=0.4930 | loss=4.8746\n",
      "5/5 * Epoch (train): 100% 300/300 [00:06<00:00, 46.61it/s, f1_score=0.433, loss=5.114]\n",
      "5/5 * Epoch (valid): 100% 34/34 [00:00<00:00, 86.03it/s, f1_score=0.653, loss=4.662]\n",
      "[2020-09-25 12:33:51,531] \n",
      "5/5 * Epoch 19 (train): f1_score=0.6473 | loss=4.9577\n",
      "5/5 * Epoch 19 (valid): f1_score=0.4944 | loss=4.8678\n",
      "Top best models:\n",
      "/logs/checkpoints/train.5.pth\t0.4944\n",
      "=> Loading checkpoint /logs/checkpoints/best_full.pth\n",
      "loaded state checkpoint /logs/checkpoints/best_full.pth (global epoch 19, epoch 5, stage train)\n",
      "1/3 * Epoch (train): 100% 300/300 [03:01<00:00,  1.65it/s, f1_score=0.360, loss=1.315]\n",
      "1/3 * Epoch (valid): 100% 34/34 [00:06<00:00,  4.92it/s, f1_score=0.528, loss=1.232]\n",
      "[2020-09-25 12:37:24,407] \n",
      "1/3 * Epoch 19 (train): f1_score=0.3587 | loss=1.4208\n",
      "1/3 * Epoch 19 (valid): f1_score=0.5522 | loss=1.2688\n",
      "2/3 * Epoch (train): 100% 300/300 [03:01<00:00,  1.65it/s, f1_score=0.762, loss=0.907]\n",
      "2/3 * Epoch (valid): 100% 34/34 [00:06<00:00,  4.93it/s, f1_score=0.557, loss=1.080]\n",
      "[2020-09-25 12:43:35,567] \n",
      "2/3 * Epoch 20 (train): f1_score=0.6183 | loss=1.1720\n",
      "2/3 * Epoch 20 (valid): f1_score=0.6222 | loss=1.1219\n",
      "3/3 * Epoch (train): 100% 300/300 [03:02<00:00,  1.65it/s, f1_score=0.733, loss=1.110]\n",
      "3/3 * Epoch (valid): 100% 34/34 [00:06<00:00,  4.94it/s, f1_score=0.593, loss=1.021]\n",
      "[2020-09-25 12:49:47,600] \n",
      "3/3 * Epoch 21 (train): f1_score=0.6982 | loss=1.0174\n",
      "3/3 * Epoch 21 (valid): f1_score=0.6186 | loss=1.0548\n",
      "Top best models:\n",
      "logs/checkpoints/train.2.pth\t0.6222\n",
      "=> Loading checkpoint logs/checkpoints/best_full.pth\n",
      "loaded state checkpoint logs/checkpoints/best_full.pth (global epoch 20, epoch 2, stage train)\n",
      "1/5 * Epoch (train): 100% 300/300 [00:06<00:00, 47.06it/s, f1_score=0.375, loss=5.085]\n",
      "1/5 * Epoch (valid): 100% 34/34 [00:00<00:00, 81.00it/s, f1_score=0.413, loss=5.047]\n",
      "[2020-09-25 12:54:07,378] \n",
      "1/5 * Epoch 20 (train): f1_score=0.2682 | loss=5.2388\n",
      "1/5 * Epoch 20 (valid): f1_score=0.3665 | loss=5.1495\n",
      "2/5 * Epoch (train): 100% 300/300 [00:06<00:00, 47.51it/s, f1_score=0.280, loss=5.312]\n",
      "2/5 * Epoch (valid): 100% 34/34 [00:00<00:00, 87.88it/s, f1_score=0.655, loss=5.006]\n",
      "[2020-09-25 12:54:14,210] \n",
      "2/5 * Epoch 21 (train): f1_score=0.4211 | loss=5.1665\n",
      "2/5 * Epoch 21 (valid): f1_score=0.4384 | loss=5.0903\n",
      "3/5 * Epoch (train): 100% 300/300 [00:06<00:00, 47.53it/s, f1_score=0.762, loss=5.106]\n",
      "3/5 * Epoch (valid): 100% 34/34 [00:00<00:00, 88.94it/s, f1_score=0.443, loss=5.017]\n",
      "[2020-09-25 12:54:21,035] \n",
      "3/5 * Epoch 22 (train): f1_score=0.5324 | loss=5.1129\n",
      "3/5 * Epoch 22 (valid): f1_score=0.4576 | loss=5.0690\n",
      "4/5 * Epoch (train): 100% 300/300 [00:06<00:00, 47.60it/s, f1_score=0.556, loss=4.947]\n",
      "4/5 * Epoch (valid): 100% 34/34 [00:00<00:00, 85.38it/s, f1_score=0.608, loss=4.974]\n",
      "[2020-09-25 12:54:27,874] \n",
      "4/5 * Epoch 23 (train): f1_score=0.6276 | loss=5.0608\n",
      "4/5 * Epoch 23 (valid): f1_score=0.5060 | loss=5.0490\n",
      "5/5 * Epoch (train): 100% 300/300 [00:06<00:00, 48.08it/s, f1_score=0.822, loss=4.900]\n",
      "5/5 * Epoch (valid): 100% 34/34 [00:00<00:00, 84.35it/s, f1_score=0.608, loss=4.892]\n",
      "[2020-09-25 12:54:34,644] \n",
      "5/5 * Epoch 24 (train): f1_score=0.7173 | loss=5.0087\n",
      "5/5 * Epoch 24 (valid): f1_score=0.5280 | loss=5.0445\n",
      "Top best models:\n",
      "/logs/checkpoints/train.5.pth\t0.5280\n",
      "=> Loading checkpoint /logs/checkpoints/best_full.pth\n",
      "loaded state checkpoint /logs/checkpoints/best_full.pth (global epoch 24, epoch 5, stage train)\n",
      "1/3 * Epoch (train): 100% 300/300 [03:01<00:00,  1.65it/s, f1_score=0.100, loss=1.608]\n",
      "1/3 * Epoch (valid): 100% 34/34 [00:06<00:00,  4.90it/s, f1_score=0.468, loss=1.265]\n",
      "[2020-09-25 12:58:07,418] \n",
      "1/3 * Epoch 24 (train): f1_score=0.3090 | loss=1.4601\n",
      "1/3 * Epoch 24 (valid): f1_score=0.5123 | loss=1.3270\n",
      "2/3 * Epoch (train): 100% 300/300 [03:01<00:00,  1.65it/s, f1_score=0.611, loss=1.295]\n",
      "2/3 * Epoch (valid): 100% 34/34 [00:06<00:00,  4.93it/s, f1_score=0.577, loss=1.169]\n",
      "[2020-09-25 13:04:19,845] \n",
      "2/3 * Epoch 25 (train): f1_score=0.5867 | loss=1.2518\n",
      "2/3 * Epoch 25 (valid): f1_score=0.6118 | loss=1.2059\n",
      "3/3 * Epoch (train): 100% 300/300 [03:01<00:00,  1.65it/s, f1_score=0.556, loss=1.212]\n",
      "3/3 * Epoch (valid): 100% 34/34 [00:06<00:00,  4.95it/s, f1_score=0.577, loss=1.084]\n",
      "[2020-09-25 13:10:32,355] \n",
      "3/3 * Epoch 26 (train): f1_score=0.6842 | loss=1.1162\n",
      "3/3 * Epoch 26 (valid): f1_score=0.6402 | loss=1.1307\n",
      "Top best models:\n",
      "logs/checkpoints/train.3.pth\t0.6402\n",
      "=> Loading checkpoint logs/checkpoints/best_full.pth\n",
      "loaded state checkpoint logs/checkpoints/best_full.pth (global epoch 26, epoch 3, stage train)\n",
      "1/5 * Epoch (train): 100% 300/300 [00:06<00:00, 48.11it/s, f1_score=0.556, loss=5.230]\n",
      "1/5 * Epoch (valid): 100% 34/34 [00:00<00:00, 88.85it/s, f1_score=0.589, loss=5.039]\n",
      "[2020-09-25 13:16:04,784] \n",
      "1/5 * Epoch 26 (train): f1_score=0.2838 | loss=5.2408\n",
      "1/5 * Epoch 26 (valid): f1_score=0.3627 | loss=5.1737\n",
      "2/5 * Epoch (train): 100% 300/300 [00:06<00:00, 48.46it/s, f1_score=0.167, loss=5.478]\n",
      "2/5 * Epoch (valid): 100% 34/34 [00:00<00:00, 84.86it/s, f1_score=0.642, loss=5.012]\n",
      "[2020-09-25 13:16:11,504] \n",
      "2/5 * Epoch 27 (train): f1_score=0.4250 | loss=5.1748\n",
      "2/5 * Epoch 27 (valid): f1_score=0.4490 | loss=5.1280\n",
      "3/5 * Epoch (train): 100% 300/300 [00:06<00:00, 48.65it/s, f1_score=0.600, loss=4.974]\n",
      "3/5 * Epoch (valid): 100% 34/34 [00:00<00:00, 85.55it/s, f1_score=0.642, loss=5.014]\n",
      "[2020-09-25 13:16:18,239] \n",
      "3/5 * Epoch 28 (train): f1_score=0.5178 | loss=5.1267\n",
      "3/5 * Epoch 28 (valid): f1_score=0.4990 | loss=5.0978\n",
      "4/5 * Epoch (train): 100% 300/300 [00:06<00:00, 48.52it/s, f1_score=0.542, loss=5.207]\n",
      "4/5 * Epoch (valid): 100% 34/34 [00:00<00:00, 88.20it/s, f1_score=0.620, loss=4.985]\n",
      "[2020-09-25 13:16:24,930] \n",
      "4/5 * Epoch 29 (train): f1_score=0.6223 | loss=5.0768\n",
      "4/5 * Epoch 29 (valid): f1_score=0.5312 | loss=5.0779\n",
      "5/5 * Epoch (train): 100% 300/300 [00:06<00:00, 48.43it/s, f1_score=0.700, loss=5.034]\n",
      "5/5 * Epoch (valid): 100% 34/34 [00:00<00:00, 88.14it/s, f1_score=0.613, loss=4.948]\n",
      "[2020-09-25 13:16:31,676] \n",
      "5/5 * Epoch 30 (train): f1_score=0.7072 | loss=5.0280\n",
      "5/5 * Epoch 30 (valid): f1_score=0.5443 | loss=5.0748\n",
      "Top best models:\n",
      "/logs/checkpoints/train.5.pth\t0.5443\n",
      "=> Loading checkpoint /logs/checkpoints/best_full.pth\n",
      "loaded state checkpoint /logs/checkpoints/best_full.pth (global epoch 30, epoch 5, stage train)\n",
      "1/3 * Epoch (train): 100% 300/300 [03:01<00:00,  1.66it/s, f1_score=0.619, loss=1.367]\n",
      "1/3 * Epoch (valid): 100% 34/34 [00:06<00:00,  4.95it/s, f1_score=0.388, loss=1.329]\n",
      "[2020-09-25 13:20:03,954] \n",
      "1/3 * Epoch 30 (train): f1_score=0.2997 | loss=1.4817\n",
      "1/3 * Epoch 30 (valid): f1_score=0.4448 | loss=1.3742\n",
      "2/3 * Epoch (train): 100% 300/300 [03:01<00:00,  1.66it/s, f1_score=0.833, loss=1.184]\n",
      "2/3 * Epoch (valid): 100% 34/34 [00:06<00:00,  4.93it/s, f1_score=0.608, loss=1.205]\n",
      "[2020-09-25 13:26:15,837] \n",
      "2/3 * Epoch 31 (train): f1_score=0.5303 | loss=1.3111\n",
      "2/3 * Epoch 31 (valid): f1_score=0.5756 | loss=1.2596\n",
      "3/3 * Epoch (train): 100% 300/300 [03:01<00:00,  1.65it/s, f1_score=0.600, loss=1.108]\n",
      "3/3 * Epoch (valid): 100% 34/34 [00:06<00:00,  4.91it/s, f1_score=0.593, loss=1.169]\n",
      "[2020-09-25 13:32:27,647] \n",
      "3/3 * Epoch 32 (train): f1_score=0.6536 | loss=1.1914\n",
      "3/3 * Epoch 32 (valid): f1_score=0.5825 | loss=1.2034\n",
      "Top best models:\n",
      "logs/checkpoints/train.3.pth\t0.5825\n",
      "=> Loading checkpoint logs/checkpoints/best_full.pth\n",
      "loaded state checkpoint logs/checkpoints/best_full.pth (global epoch 32, epoch 3, stage train)\n",
      "1/5 * Epoch (train): 100% 300/300 [00:06<00:00, 45.78it/s, f1_score=0.444, loss=5.187]\n",
      "1/5 * Epoch (valid): 100% 34/34 [00:00<00:00, 83.74it/s, f1_score=0.458, loss=5.113]\n",
      "[2020-09-25 13:38:01,525] \n",
      "1/5 * Epoch 32 (train): f1_score=0.2728 | loss=5.2437\n",
      "1/5 * Epoch 32 (valid): f1_score=0.3728 | loss=5.1753\n",
      "2/5 * Epoch (train): 100% 300/300 [00:06<00:00, 46.75it/s, f1_score=0.250, loss=5.149]\n",
      "2/5 * Epoch (valid): 100% 34/34 [00:00<00:00, 83.18it/s, f1_score=0.655, loss=5.013]\n",
      "[2020-09-25 13:38:08,474] \n",
      "2/5 * Epoch 33 (train): f1_score=0.4186 | loss=5.1747\n",
      "2/5 * Epoch 33 (valid): f1_score=0.4345 | loss=5.1354\n",
      "3/5 * Epoch (train): 100% 300/300 [00:06<00:00, 45.94it/s, f1_score=0.542, loss=5.263]\n",
      "3/5 * Epoch (valid): 100% 34/34 [00:00<00:00, 83.51it/s, f1_score=0.655, loss=4.987]\n",
      "[2020-09-25 13:38:15,538] \n",
      "3/5 * Epoch 34 (train): f1_score=0.5298 | loss=5.1225\n",
      "3/5 * Epoch 34 (valid): f1_score=0.5027 | loss=5.1095\n",
      "4/5 * Epoch (train): 100% 300/300 [00:06<00:00, 45.48it/s, f1_score=1.000, loss=5.024]\n",
      "4/5 * Epoch (valid): 100% 34/34 [00:00<00:00, 82.22it/s, f1_score=0.651, loss=4.968]\n",
      "[2020-09-25 13:38:22,675] \n",
      "4/5 * Epoch 35 (train): f1_score=0.6405 | loss=5.0695\n",
      "4/5 * Epoch 35 (valid): f1_score=0.5114 | loss=5.1094\n",
      "5/5 * Epoch (train): 100% 300/300 [00:06<00:00, 45.84it/s, f1_score=0.444, loss=4.960]\n",
      "5/5 * Epoch (valid): 100% 34/34 [00:00<00:00, 81.07it/s, f1_score=0.637, loss=4.990]\n",
      "[2020-09-25 13:38:29,769] \n",
      "5/5 * Epoch 36 (train): f1_score=0.7128 | loss=5.0210\n",
      "5/5 * Epoch 36 (valid): f1_score=0.5362 | loss=5.1123\n",
      "Top best models:\n",
      "/logs/checkpoints/train.5.pth\t0.5362\n",
      "=> Loading checkpoint /logs/checkpoints/best_full.pth\n",
      "loaded state checkpoint /logs/checkpoints/best_full.pth (global epoch 36, epoch 5, stage train)\n",
      "1/3 * Epoch (train): 100% 300/300 [03:01<00:00,  1.65it/s, f1_score=0.600, loss=1.386]\n",
      "1/3 * Epoch (valid): 100% 34/34 [00:06<00:00,  4.91it/s, f1_score=0.468, loss=1.364]\n",
      "[2020-09-25 13:42:02,668] \n",
      "1/3 * Epoch 36 (train): f1_score=0.3119 | loss=1.5038\n",
      "1/3 * Epoch 36 (valid): f1_score=0.4716 | loss=1.4056\n",
      "2/3 * Epoch (train): 100% 300/300 [03:01<00:00,  1.65it/s, f1_score=0.444, loss=1.335]\n",
      "2/3 * Epoch (valid): 100% 34/34 [00:06<00:00,  4.90it/s, f1_score=0.434, loss=1.289]\n",
      "[2020-09-25 13:48:15,774] \n",
      "2/3 * Epoch 37 (train): f1_score=0.5229 | loss=1.3516\n",
      "2/3 * Epoch 37 (valid): f1_score=0.5414 | loss=1.3082\n",
      "3/3 * Epoch (train): 100% 300/300 [03:01<00:00,  1.65it/s, f1_score=0.625, loss=1.198]\n",
      "3/3 * Epoch (valid): 100% 34/34 [00:06<00:00,  4.92it/s, f1_score=0.608, loss=1.248]\n",
      "[2020-09-25 13:54:27,606] \n",
      "3/3 * Epoch 38 (train): f1_score=0.6043 | loss=1.2500\n",
      "3/3 * Epoch 38 (valid): f1_score=0.5868 | loss=1.2461\n",
      "Top best models:\n",
      "logs/checkpoints/train.3.pth\t0.5868\n",
      "=> Loading checkpoint logs/checkpoints/best_full.pth\n",
      "loaded state checkpoint logs/checkpoints/best_full.pth (global epoch 38, epoch 3, stage train)\n",
      "1/5 * Epoch (train): 100% 300/300 [00:06<00:00, 46.40it/s, f1_score=0.350, loss=5.267]\n",
      "1/5 * Epoch (valid): 100% 34/34 [00:00<00:00, 82.62it/s, f1_score=0.507, loss=5.147]\n",
      "[2020-09-25 14:00:01,078] \n",
      "1/5 * Epoch 38 (train): f1_score=0.2720 | loss=5.2510\n",
      "1/5 * Epoch 38 (valid): f1_score=0.3672 | loss=5.1909\n",
      "2/5 * Epoch (train): 100% 300/300 [00:06<00:00, 47.51it/s, f1_score=0.778, loss=5.103]\n",
      "2/5 * Epoch (valid): 100% 34/34 [00:00<00:00, 87.61it/s, f1_score=0.642, loss=5.032]\n",
      "[2020-09-25 14:00:07,910] \n",
      "2/5 * Epoch 39 (train): f1_score=0.4291 | loss=5.1841\n",
      "2/5 * Epoch 39 (valid): f1_score=0.4293 | loss=5.1530\n",
      "3/5 * Epoch (train): 100% 300/300 [00:06<00:00, 48.23it/s, f1_score=0.700, loss=5.000]\n",
      "3/5 * Epoch (valid): 100% 34/34 [00:00<00:00, 87.10it/s, f1_score=0.642, loss=5.033]\n",
      "[2020-09-25 14:00:14,694] \n",
      "3/5 * Epoch 40 (train): f1_score=0.5271 | loss=5.1333\n",
      "3/5 * Epoch 40 (valid): f1_score=0.4779 | loss=5.1298\n",
      "4/5 * Epoch (train): 100% 300/300 [00:06<00:00, 48.34it/s, f1_score=0.778, loss=4.993]\n",
      "4/5 * Epoch (valid): 100% 34/34 [00:00<00:00, 83.71it/s, f1_score=0.613, loss=5.059]\n",
      "[2020-09-25 14:00:21,430] \n",
      "4/5 * Epoch 41 (train): f1_score=0.6202 | loss=5.0833\n",
      "4/5 * Epoch 41 (valid): f1_score=0.4967 | loss=5.1264\n",
      "5/5 * Epoch (train): 100% 300/300 [00:06<00:00, 48.44it/s, f1_score=0.700, loss=4.996]\n",
      "5/5 * Epoch (valid): 100% 34/34 [00:00<00:00, 86.92it/s, f1_score=0.655, loss=4.984]\n",
      "[2020-09-25 14:00:28,143] \n",
      "5/5 * Epoch 42 (train): f1_score=0.7064 | loss=5.0340\n",
      "5/5 * Epoch 42 (valid): f1_score=0.5290 | loss=5.1338\n",
      "Top best models:\n",
      "/logs/checkpoints/train.5.pth\t0.5290\n",
      "=> Loading checkpoint /logs/checkpoints/best_full.pth\n",
      "loaded state checkpoint /logs/checkpoints/best_full.pth (global epoch 42, epoch 5, stage train)\n",
      "1/3 * Epoch (train): 100% 300/300 [03:01<00:00,  1.66it/s, f1_score=0.417, loss=1.415]\n",
      "1/3 * Epoch (valid): 100% 34/34 [00:06<00:00,  4.95it/s, f1_score=0.533, loss=1.406]\n",
      "[2020-09-25 14:04:00,631] \n",
      "1/3 * Epoch 42 (train): f1_score=0.3026 | loss=1.5221\n",
      "1/3 * Epoch 42 (valid): f1_score=0.4835 | loss=1.4377\n",
      "2/3 * Epoch (train): 100% 300/300 [03:01<00:00,  1.66it/s, f1_score=0.500, loss=1.222]\n",
      "2/3 * Epoch (valid): 100% 34/34 [00:06<00:00,  4.97it/s, f1_score=0.665, loss=1.291]\n",
      "[2020-09-25 14:10:12,097] \n",
      "2/3 * Epoch 43 (train): f1_score=0.5746 | loss=1.3850\n",
      "2/3 * Epoch 43 (valid): f1_score=0.6273 | loss=1.3534\n",
      "3/3 * Epoch (train): 100% 300/300 [03:01<00:00,  1.66it/s, f1_score=0.762, loss=1.152]\n",
      "3/3 * Epoch (valid): 100% 34/34 [00:06<00:00,  4.92it/s, f1_score=0.576, loss=1.293]\n",
      "[2020-09-25 14:16:23,646] \n",
      "3/3 * Epoch 44 (train): f1_score=0.6657 | loss=1.2937\n",
      "3/3 * Epoch 44 (valid): f1_score=0.5976 | loss=1.2915\n",
      "Top best models:\n",
      "logs/checkpoints/train.2.pth\t0.6273\n",
      "=> Loading checkpoint logs/checkpoints/best_full.pth\n",
      "loaded state checkpoint logs/checkpoints/best_full.pth (global epoch 43, epoch 2, stage train)\n",
      "1/5 * Epoch (train): 100% 300/300 [00:06<00:00, 46.73it/s, f1_score=0.619, loss=5.127]\n",
      "1/5 * Epoch (valid): 100% 34/34 [00:00<00:00, 83.41it/s, f1_score=0.543, loss=5.165]\n",
      "[2020-09-25 14:20:45,413] \n",
      "1/5 * Epoch 43 (train): f1_score=0.2776 | loss=5.2584\n",
      "1/5 * Epoch 43 (valid): f1_score=0.3449 | loss=5.2132\n",
      "2/5 * Epoch (train): 100% 300/300 [00:06<00:00, 47.83it/s, f1_score=1.000, loss=5.032]\n",
      "2/5 * Epoch (valid): 100% 34/34 [00:00<00:00, 85.68it/s, f1_score=0.548, loss=5.108]\n",
      "[2020-09-25 14:20:52,208] \n",
      "2/5 * Epoch 44 (train): f1_score=0.4241 | loss=5.1942\n",
      "2/5 * Epoch 44 (valid): f1_score=0.4143 | loss=5.1821\n",
      "3/5 * Epoch (train): 100% 300/300 [00:06<00:00, 47.99it/s, f1_score=1.000, loss=4.956]\n",
      "3/5 * Epoch (valid): 100% 34/34 [00:00<00:00, 87.75it/s, f1_score=0.533, loss=5.109]\n",
      "[2020-09-25 14:20:58,994] \n",
      "3/5 * Epoch 45 (train): f1_score=0.5247 | loss=5.1441\n",
      "3/5 * Epoch 45 (valid): f1_score=0.4798 | loss=5.1622\n",
      "4/5 * Epoch (train): 100% 300/300 [00:06<00:00, 48.02it/s, f1_score=0.367, loss=5.282]\n",
      "4/5 * Epoch (valid): 100% 34/34 [00:00<00:00, 87.89it/s, f1_score=0.614, loss=5.101]\n",
      "[2020-09-25 14:21:05,797] \n",
      "4/5 * Epoch 46 (train): f1_score=0.6225 | loss=5.0972\n",
      "4/5 * Epoch 46 (valid): f1_score=0.5106 | loss=5.1586\n",
      "5/5 * Epoch (train): 100% 300/300 [00:06<00:00, 48.50it/s, f1_score=0.700, loss=5.024]\n",
      "5/5 * Epoch (valid): 100% 34/34 [00:00<00:00, 86.67it/s, f1_score=0.533, loss=5.121]\n",
      "[2020-09-25 14:21:12,506] \n",
      "5/5 * Epoch 47 (train): f1_score=0.7116 | loss=5.0482\n",
      "5/5 * Epoch 47 (valid): f1_score=0.5254 | loss=5.1655\n",
      "Top best models:\n",
      "/logs/checkpoints/train.5.pth\t0.5254\n",
      "=> Loading checkpoint /logs/checkpoints/best_full.pth\n",
      "loaded state checkpoint /logs/checkpoints/best_full.pth (global epoch 47, epoch 5, stage train)\n",
      "CPU times: user 1h 2min 11s, sys: 35min 26s, total: 1h 37min 37s\n",
      "Wall time: 2h 51min 44s\n"
     ]
    }
   ],
   "source": [
    "%%time\n",
    "for t in T:\n",
    "    teacher = bert.BertForSeqClf('rubert', len(le.classes_))\n",
    "    teacher_criterion.set_temp(t)\n",
    "    optimizer_t = init_optim(teacher, LR)\n",
    "    run2.train(model=teacher, \n",
    "            optimizer=optimizer_t, \n",
    "            criterion=teacher_criterion, \n",
    "            loaders=train_loaders, \n",
    "            valid_loader='valid', \n",
    "            num_epochs=3, \n",
    "            verbose=True, \n",
    "            load_best_on_end=True, \n",
    "            logdir='logs/', \n",
    "            main_metric='f1_score', \n",
    "            minimize_metric=False)\n",
    "\n",
    "    logits, teacher_loss, teacher_score = teacher_predict(run2, {'train': train_loader, \n",
    "                                                                'valid': valid_loader,\n",
    "                                                                'test': test_loader})\n",
    "\n",
    "    res[t] = {'teacher_loss': teacher_loss, 'teacher_score': teacher_score}\n",
    "\n",
    "    train_dataset_st.change_logits(logits['train'])\n",
    "    valid_dataset_st.change_logits(logits['valid'])\n",
    "    test_dataset_st.change_logits(logits['test'])\n",
    "\n",
    "    train_loader_st = DataLoader(train_dataset_st, batch_size=BATCH_SIZE, \n",
    "                                shuffle=True, collate_fn=train_dataset_st.collate_fn)\n",
    "    valid_loader_st = DataLoader(valid_dataset_st, batch_size=BATCH_SIZE, \n",
    "                                shuffle=False, collate_fn=valid_dataset_st.collate_fn)\n",
    "    test_loader_st = DataLoader(test_dataset_st, batch_size=BATCH_SIZE, \n",
    "                                shuffle=False, collate_fn=test_dataset_st.collate_fn)\n",
    "\n",
    "    train_loaders_st['train'] = train_loader_st\n",
    "    train_loaders_st['valid'] = valid_loader_st\n",
    "    \n",
    "    student = Student(input_size=vocab_size, embedding_dim=128, hidden_dim=128, \n",
    "                padding_idx=padding_idx, bidirect=True, \n",
    "                n_layers=2, dropout_p=0.3, n_classes=len(le.classes_))\n",
    "    student_criterion.set_temp(t)\n",
    "    optimizer_st = init_optim(student, LR_S)\n",
    "    run2.train(model=student, \n",
    "            optimizer=optimizer_st, \n",
    "            criterion=student_criterion, \n",
    "            loaders=train_loaders_st, \n",
    "            valid_loader='valid', \n",
    "            num_epochs=5, \n",
    "            verbose=True, \n",
    "            load_best_on_end=True, \n",
    "            logdir='/logs', \n",
    "            main_metric='f1_score', \n",
    "            minimize_metric=False)\n",
    "\n",
    "    student_logits, student_loss, student_score = run2.predict_loader(test_loader_st)\n",
    "    res[t].update({'student_loss': student_loss, 'student_score': student_score})"
   ]
  },
  {
   "cell_type": "code",
   "execution_count": 39,
   "metadata": {
    "colab": {
     "base_uri": "https://localhost:8080/",
     "height": 449
    },
    "colab_type": "code",
    "id": "9hVdb-Xs2Tup",
    "outputId": "b40efaf3-a139-4677-ac58-a11e0216d196"
   },
   "outputs": [
    {
     "name": "stdout",
     "output_type": "stream",
     "text": [
      "__________________T=1___________________\n",
      "Teacher: loss 0.7066, f1-score 0.6667\n",
      "Student: loss: 4.8413, f1-score 0.2029\n",
      "__________________T=5___________________\n",
      "Teacher: loss 0.7577, f1-score 0.6711\n",
      "Student: loss: 4.5571, f1-score 0.4218\n",
      "__________________T=9___________________\n",
      "Teacher: loss 0.8830, f1-score 0.6581\n",
      "Student: loss: 4.8146, f1-score 0.5081\n",
      "__________________T=13__________________\n",
      "Teacher: loss 1.0863, f1-score 0.6361\n",
      "Student: loss: 4.9946, f1-score 0.5497\n",
      "__________________T=17__________________\n",
      "Teacher: loss 1.1081, f1-score 0.6500\n",
      "Student: loss: 5.0349, f1-score 0.5618\n",
      "__________________T=21__________________\n",
      "Teacher: loss 1.1430, f1-score 0.6318\n",
      "Student: loss: 5.0600, f1-score 0.5542\n",
      "__________________T=25__________________\n",
      "Teacher: loss 1.2137, f1-score 0.6254\n",
      "Student: loss: 5.1056, f1-score 0.5282\n",
      "__________________T=29__________________\n",
      "Teacher: loss 1.3460, f1-score 0.6398\n",
      "Student: loss: 5.1272, f1-score 0.5480\n"
     ]
    }
   ],
   "source": [
    "for key, item in res.items():\n",
    "    print('{k:{c}^{n}}'.format(k=f'T={key}', n=40, c='_'))\n",
    "    print('Teacher: loss {:.4f}, f1-score {:.4f}'.format(item['teacher_loss'], \n",
    "                                                      item['teacher_score']))\n",
    "    print('Student: loss: {:.4f}, f1-score {:.4f}'.format(item['student_loss'], \n",
    "                                                         item['student_score']))"
   ]
  },
  {
   "cell_type": "markdown",
   "metadata": {
    "colab_type": "text",
    "id": "zcOW2aDTpa_7"
   },
   "source": [
    "Now we can see that training student on teacher's logits could improve student's generalization ability (0.5583 vs 0.5618 $f_1$ score on test data). \n",
    "\n",
    "From the results obtained it can be concluded that we should carefully choose softmax temperature: at both too low and too high temperatures, the student's generalization ability is getting worse (the higher the temperature, the higher the entropy)."
   ]
  }
 ],
 "metadata": {
  "accelerator": "GPU",
  "colab": {
   "collapsed_sections": [],
   "name": "distillation.ipynb",
   "provenance": [],
   "toc_visible": true
  },
  "kernelspec": {
   "display_name": "Python 3",
   "language": "python",
   "name": "python3"
  },
  "language_info": {
   "codemirror_mode": {
    "name": "ipython",
    "version": 3
   },
   "file_extension": ".py",
   "mimetype": "text/x-python",
   "name": "python",
   "nbconvert_exporter": "python",
   "pygments_lexer": "ipython3",
   "version": "3.8.3"
  }
 },
 "nbformat": 4,
 "nbformat_minor": 1
}
